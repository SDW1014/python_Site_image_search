{
  "nbformat": 4,
  "nbformat_minor": 0,
  "metadata": {
    "colab": {
      "provenance": [],
      "authorship_tag": "ABX9TyPC/F86kQETlvFKsEVu/BoA",
      "include_colab_link": true
    },
    "kernelspec": {
      "name": "python3",
      "display_name": "Python 3"
    },
    "language_info": {
      "name": "python"
    }
  },
  "cells": [
    {
      "cell_type": "markdown",
      "metadata": {
        "id": "view-in-github",
        "colab_type": "text"
      },
      "source": [
        "<a href=\"https://colab.research.google.com/github/SDW1014/python_Site_image_search/blob/main/%EC%9D%B4%EB%AF%B8%EC%A7%80%EB%A5%BC_%EB%B0%9B%EC%95%84%EB%B3%B4%EC%9E%90.ipynb\" target=\"_parent\"><img src=\"https://colab.research.google.com/assets/colab-badge.svg\" alt=\"Open In Colab\"/></a>"
      ]
    },
    {
      "cell_type": "markdown",
      "source": [
        "# 새 섹션"
      ],
      "metadata": {
        "id": "Jh8-WbjBUz9j"
      }
    },
    {
      "cell_type": "markdown",
      "source": [
        "# 새 섹션"
      ],
      "metadata": {
        "id": "aErCZLIOU1pc"
      }
    },
    {
      "cell_type": "code",
      "source": [
        "import os\n",
        "import requests\n",
        "\n",
        "__file__ = os.path.abspath('')\n",
        "\n",
        "folder_path = __file__\n",
        "#folder_path = \"path/to/folder\"\n",
        "file_names = []\n",
        "\n",
        "try:\n",
        "    for filename in os.listdir(folder_path):\n",
        "        name_without_extension = os.path.splitext(filename)[0]\n",
        "        split_name = name_without_extension.split(\"-\")\n",
        "        if len(split_name) > 1 and split_name[-2] == \"\":\n",
        "            file_names.append(\"-\".join(split_name[:-2]))\n",
        "        else:\n",
        "            file_names.append(\"-\".join(split_name[:-1]))\n",
        "except FileNotFoundError:\n",
        "    print(\"폴더를 찾을 수 없습니다.\")\n",
        "    exit()\n",
        "\n",
        "for file_name in file_names:\n",
        "    #print(file_names)\n",
        "    url = f\"사이트 홍보 방지용아무 사이트나 당신이 찾아서 만드시오{file_name}\"\n",
        "    #print(url)\n",
        "    response = requests.get(url)\n",
        "    html = response.text\n",
        "\n",
        "    try:\n",
        "        image_url = html.split('class=\"bigImage\" href=\"')[1].split('\"')[0]\n",
        "        full_image_url = f\"사이트 홍보 방지용아무 사이트나 당신이 찾아서 만드시오{image_url}\"\n",
        "        image_response = requests.get(full_image_url)\n",
        "\n",
        "        with open(os.path.join(folder_path, f\"{file_name}.jpg\"), \"wb\") as f:\n",
        "            f.write(image_response.content)\n",
        "            print(url + \"다운 받았습니다 \")\n",
        "    except:\n",
        "        print(f\"{file_name} 이미지를 다운로드할 수 없습니다.\")\n",
        "\n",
        "print(\"이미지 다운로드가 완료되었습니다.\")"
      ],
      "metadata": {
        "id": "pCqEiLrkU4Wz"
      },
      "execution_count": null,
      "outputs": []
    },
    {
      "cell_type": "code",
      "source": [],
      "metadata": {
        "id": "xHA-1_OdU5Ps"
      },
      "execution_count": null,
      "outputs": []
    }
  ]
}